{
 "cells": [
  {
   "cell_type": "code",
   "execution_count": 1,
   "id": "c66e5b76",
   "metadata": {},
   "outputs": [],
   "source": [
    "import os\n",
    "from functools import partial\n",
    "\n",
    "from serm import *\n",
    "from sparseae import *\n",
    "import h5py\n",
    "import matplotlib.pyplot as plt\n",
    "from sklearn.decomposition import PCA\n",
    "import scipy\n",
    "%matplotlib inline\n",
    "\n",
    "# if having GPUs, select one\n",
    "os.environ[\"CUDA_VISIBLE_DEVICES\"]=\"0\"\n",
    "DATA_PATH = 'example_data/'"
   ]
  },
  {
   "cell_type": "markdown",
   "id": "9d61316e",
   "metadata": {},
   "source": [
    "# load .mat data as matlab code demo"
   ]
  },
  {
   "cell_type": "code",
   "execution_count": 2,
   "id": "7b2dbd04",
   "metadata": {},
   "outputs": [
    {
     "name": "stdout",
     "output_type": "stream",
     "text": [
      "(4280, 1128)\n",
      "(4280, 1)\n"
     ]
    }
   ],
   "source": [
    "with h5py.File(os.path.join(DATA_PATH,'experimentalData_2_StemCell.mat'), 'r') as f:\n",
    "    data = np.array(f.get('data')).T\n",
    "# each row is a data sample\n",
    "print(data.shape)\n",
    "\n",
    "with h5py.File(os.path.join(DATA_PATH,'gT-2.mat'), 'r') as f:\n",
    "    gT_out = np.array(f.get('gT')).T\n",
    "\n",
    "print(gT_out.shape)"
   ]
  },
  {
   "cell_type": "markdown",
   "id": "69409b69",
   "metadata": {},
   "source": [
    "# Setting hyperparameters"
   ]
  },
  {
   "cell_type": "code",
   "execution_count": 3,
   "id": "6c9d8362",
   "metadata": {},
   "outputs": [],
   "source": [
    "# Data used in Sparse Autoencoder training\n",
    "Xpart = data[0:2000,:]\n",
    "\n",
    "# Epochs for Sparse Autoencoder training\n",
    "maxEPOCH = 20\n",
    "\n",
    "# Neurons in hidden layer of Sparse Autoencoder\n",
    "reduced_Dim = 2\n",
    "\n",
    "# ROI size \n",
    "ROIsize = [2000,500]\n",
    "\n",
    "# Percent overlap between successive ROIs\n",
    "percOL = 0.5"
   ]
  },
  {
   "cell_type": "code",
   "execution_count": null,
   "id": "cad116db",
   "metadata": {},
   "outputs": [],
   "source": [
    "# SERM operation\n",
    "sermOut = serm(data, Xpart, reduced_Dim, maxEPOCH, ROIsize, percOL)\n",
    "\n",
    "# Visualization\n",
    "serm_out = scipy.stats.zscore(sermOut)\n",
    "pca = PCA(n_components=2)\n",
    "pca_result = pca.fit_transform(serm_out)\n",
    "\n",
    "plt.scatter(pca_result[:,0],pca_result[:,1], c=gT_out.flatten())"
   ]
  }
 ],
 "metadata": {
  "kernelspec": {
   "display_name": "Python 3 (ipykernel)",
   "language": "python",
   "name": "python3"
  },
  "language_info": {
   "codemirror_mode": {
    "name": "ipython",
    "version": 3
   },
   "file_extension": ".py",
   "mimetype": "text/x-python",
   "name": "python",
   "nbconvert_exporter": "python",
   "pygments_lexer": "ipython3",
   "version": "3.9.7"
  }
 },
 "nbformat": 4,
 "nbformat_minor": 5
}
